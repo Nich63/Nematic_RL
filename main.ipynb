{
 "cells": [
  {
   "cell_type": "code",
   "execution_count": 1,
   "metadata": {},
   "outputs": [],
   "source": [
    "import torch\n",
    "import matplotlib.pyplot as plt\n",
    "from utils.defects import S_cal\n",
    "import numpy as np\n",
    "import pickle\n",
    "import gymnasium as gym\n",
    "from gymnasium import spaces\n",
    "import numpy as np\n",
    "import torch\n",
    "import torch.nn as nn\n",
    "import tensorboard\n",
    "\n",
    "from kinetic_solver import KineticSolver, KineticData\n",
    "from stable_baselines3 import PPO\n",
    "from utils.model import DownSampleConv\n",
    "from utils.defects import theta_cal, S_cal\n",
    "from stable_baselines3.common.env_checker import check_env\n",
    "from stable_baselines3.common.policies import ActorCriticCnnPolicy\n",
    "from kinetic_solver import KineticSolver, KineticData\n",
    "from nematic_env import ActiveNematicEnv\n",
    "\n",
    "# 初始化物理仿真器\n",
    "geo_params = {\n",
    "    'N': 256,\n",
    "    'Nth': 256,\n",
    "    'L': 20\n",
    "}\n",
    "flow_params = {\n",
    "    'dT': 0.3,\n",
    "    'dR': 0.3,\n",
    "    'alpha': -10,\n",
    "    'beta': 1.0,\n",
    "    'zeta': 2,\n",
    "    'V0': 0.0\n",
    "}\n",
    "simu_params = {\n",
    "    'dt': 0.0004,\n",
    "    'seed': 1234,\n",
    "    'inner_steps': 6,\n",
    "    'outer_steps': 2\n",
    "}\n",
    "device = 'cuda:0' if torch.cuda.is_available() else 'cpu'\n",
    "\n",
    "solver_paras = (geo_params, flow_params, simu_params)"
   ]
  },
  {
   "cell_type": "code",
   "execution_count": null,
   "metadata": {},
   "outputs": [],
   "source": [
    "solver_paras = (geo_params, flow_params, simu_params)\n",
    "\n",
    "solver = KineticSolver(*solver_paras, device=device)\n",
    "data_path = '/home/hou63/pj2/Nematic_RL/datas/simulation_data_test.pkl'\n",
    "# simulation_data = KineticData(*solver.initialize2_pytorch(seed=918), solver.simu_args)\n",
    "simulation_data = KineticData.loader(data_path)\n",
    "# simulation_data = solver.preloop_kinetic(simulation_data, num_itr=32000)\n",
    "print(simulation_data)\n",
    "\n",
    "simulation_data = simulation_data.loader(data_path)\n",
    "env = ActiveNematicEnv(solver_paras, solver=solver,\n",
    "                        simulation_data=simulation_data, device=device,\n",
    "                        data_path=data_path)\n"
   ]
  },
  {
   "cell_type": "code",
   "execution_count": null,
   "metadata": {},
   "outputs": [],
   "source": [
    "print(env._calculate_reward())\n",
    "\n",
    "d11, d12 = simulation_data.get_D()\n",
    "S = S_cal(d11.cpu().data.numpy(), d12.cpu().data.numpy())\n",
    "print(S.mean())\n",
    "d11 = d11.cpu().data.numpy()\n",
    "d12 = d12.cpu().data.numpy()\n",
    "theta = 0.5 * np.arctan2(2*d12, 2*d11-1)\n",
    "# plot S\n",
    "\n",
    "cost, sint = np.cos(theta), np.sin(theta)\n",
    "\n",
    "fig, ax1 = plt.subplots(1,3, figsize=(15, 5))\n",
    "ax1[0].streamplot(np.arange(0, theta.shape[0]), np.arange(0, theta.shape[1]),\n",
    "                cost, sint, arrowsize=0.5, color='r',\n",
    "                density=4, linewidth=0.5)\n",
    "\n",
    "ax1[1].imshow(d11)\n",
    "# set colorbar\n",
    "\n",
    "ax1[2].imshow(S)\n",
    "plt.show()"
   ]
  },
  {
   "cell_type": "code",
   "execution_count": null,
   "metadata": {},
   "outputs": [],
   "source": [
    "check_env(env)"
   ]
  },
  {
   "cell_type": "code",
   "execution_count": null,
   "metadata": {},
   "outputs": [],
   "source": [
    "model = PPO(\n",
    "    ActorCriticCnnPolicy, env, verbose=1, device=device,\n",
    "      tensorboard_log=\"/home/hou63/pj2/Nematic_RL/logs2\")\n",
    "model.learn(total_timesteps=2)\n",
    "\n",
    "# 关闭环境\n",
    "env.close()"
   ]
  },
  {
   "cell_type": "code",
   "execution_count": null,
   "metadata": {},
   "outputs": [],
   "source": [
    "# save model\n",
    "model.save(\"/home/hou63/pj2/Nematic_RL/models/ppo_nematic\")\n"
   ]
  }
 ],
 "metadata": {
  "kernelspec": {
   "display_name": "rl",
   "language": "python",
   "name": "python3"
  },
  "language_info": {
   "codemirror_mode": {
    "name": "ipython",
    "version": 3
   },
   "file_extension": ".py",
   "mimetype": "text/x-python",
   "name": "python",
   "nbconvert_exporter": "python",
   "pygments_lexer": "ipython3",
   "version": "3.8.20"
  }
 },
 "nbformat": 4,
 "nbformat_minor": 2
}
