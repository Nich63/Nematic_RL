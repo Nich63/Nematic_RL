{
 "cells": [
  {
   "cell_type": "code",
   "execution_count": 1,
   "metadata": {},
   "outputs": [],
   "source": [
    "import torch\n",
    "import matplotlib.pyplot as plt\n",
    "from utils.defects import S_cal\n",
    "import numpy as np\n",
    "import pickle\n",
    "import gymnasium as gym\n",
    "from gymnasium import spaces\n",
    "import numpy as np\n",
    "import torch\n",
    "import torch.nn as nn\n",
    "import tensorboard\n",
    "import time\n",
    "\n",
    "from stable_baselines3 import PPO\n",
    "from stable_baselines3.common.callbacks import BaseCallback\n",
    "from utils.model import DownSampleConv\n",
    "from utils.defects import theta_cal, S_cal\n",
    "from stable_baselines3.common.env_checker import check_env\n",
    "from stable_baselines3.common.policies import ActorCriticCnnPolicy\n",
    "from kinetic_solver import KineticSolver, KineticData\n",
    "from nematic_env import ActiveNematicEnv, RewardLoggingCallback\n",
    "\n",
    "\n",
    "# 初始化物理仿真器\n",
    "geo_params = {\n",
    "    'N': 256,\n",
    "    'Nth': 256,\n",
    "    'L': 10\n",
    "}\n",
    "flow_params = {\n",
    "    'dT': 0.3,\n",
    "    'dR': 0.3,\n",
    "    'alpha': -10,\n",
    "    'beta': 1.0,\n",
    "    'zeta': 2,\n",
    "    'V0': 0.0\n",
    "}\n",
    "simu_params = {\n",
    "    'dt': 0.0004,\n",
    "    'seed': 1234,\n",
    "    'inner_steps': 8,\n",
    "    'outer_steps': 6400\n",
    "}\n",
    "device = 'cuda:0' if torch.cuda.is_available() else 'cpu'\n",
    "\n",
    "\n"
   ]
  },
  {
   "cell_type": "code",
   "execution_count": 2,
   "metadata": {},
   "outputs": [
    {
     "name": "stdout",
     "output_type": "stream",
     "text": [
      " dx_  0.0390625  dth_  0.02454369260617026  dt  0.0004\n"
     ]
    },
    {
     "name": "stdout",
     "output_type": "stream",
     "text": [
      "<kinetic_solver.KineticData object at 0x7e4909afed60>\n",
      "Pre iteration done.\n"
     ]
    }
   ],
   "source": [
    "solver_paras = (geo_params, flow_params, simu_params)\n",
    "# env = ActiveNematicEnv(solver_paras, device=device)\n",
    "\n",
    "# solver_paras = (geo_params, flow_params, simu_params)\n",
    "\n",
    "solver = KineticSolver(*solver_paras, device=device)\n",
    "data_path = '/home/hou63/pj2/Nematic_RL/datas/simulation_data_test.pkl'\n",
    "# simulation_data = KineticData(*solver.initialize2_pytorch(seed=918), solver.simu_args)\n",
    "simulation_data = KineticData.loader(data_path)\n",
    "# simulation_data = solver.preloop_kinetic(simulation_data, num_itr=32000)\n",
    "print(simulation_data)\n",
    "simulation_data = simulation_data.loader(data_path)\n",
    "env = ActiveNematicEnv(solver_paras, solver=solver,\n",
    "                        simulation_data=simulation_data, device=device,\n",
    "                        data_path=data_path, intensity=10)\n"
   ]
  },
  {
   "cell_type": "code",
   "execution_count": null,
   "metadata": {},
   "outputs": [],
   "source": [
    "print(env._calculate_reward())\n",
    "\n",
    "d11, d12 = simulation_data.get_D()\n",
    "S = S_cal(d11.cpu().data.numpy(), d12.cpu().data.numpy())\n",
    "print(S.mean())\n",
    "d11 = d11.cpu().data.numpy()\n",
    "d12 = d12.cpu().data.numpy()\n",
    "theta = 0.5 * np.arctan2(2*d12, 2*d11-1)\n",
    "# plot S\n",
    "\n",
    "cost, sint = np.cos(theta), np.sin(theta)\n",
    "\n",
    "fig, ax1 = plt.subplots(1,3, figsize=(15, 5))\n",
    "ax1[0].streamplot(np.arange(0, theta.shape[0]), np.arange(0, theta.shape[1]),\n",
    "                cost, sint, arrowsize=0.5, color='r',\n",
    "                density=4, linewidth=0.5)\n",
    "\n",
    "ax1[1].imshow(d11)\n",
    "# set colorbar\n",
    "\n",
    "ax1[2].imshow(S)\n",
    "plt.show()"
   ]
  },
  {
   "cell_type": "code",
   "execution_count": null,
   "metadata": {},
   "outputs": [],
   "source": [
    "check_env(env)"
   ]
  },
  {
   "cell_type": "code",
   "execution_count": null,
   "metadata": {},
   "outputs": [
    {
     "name": "stdout",
     "output_type": "stream",
     "text": [
      "Using cuda:0 device\n",
      "Wrapping the env with a `Monitor` wrapper\n",
      "Wrapping the env in a DummyVecEnv.\n"
     ]
    },
    {
     "name": "stdout",
     "output_type": "stream",
     "text": [
      "Logging to /home/hou63/pj2/Nematic_RL/logs/PPO_5\n"
     ]
    }
   ],
   "source": [
    "# check_env(env)\n",
    "# # 使用PPO算法进行强化学习\n",
    "model = PPO(\n",
    "    ActorCriticCnnPolicy, env, verbose=1, device=device,\n",
    "    n_steps=256, batch_size=32,\n",
    "    tensorboard_log=\"/home/hou63/pj2/Nematic_RL/logs\")\n",
    "\n",
    "# tic = time.time()\n",
    "model.learn(total_timesteps=40000, callback=RewardLoggingCallback())\n",
    "# toc = time.time()\n",
    "# print('Time cost: ', toc - tic)"
   ]
  },
  {
   "cell_type": "code",
   "execution_count": null,
   "metadata": {},
   "outputs": [],
   "source": [
    "# save model\n",
    "model.save(\"/home/hou63/pj2/Nematic_RL/models/ppo_nematic\")\n"
   ]
  },
  {
   "cell_type": "code",
   "execution_count": 6,
   "metadata": {},
   "outputs": [],
   "source": [
    "d1 = np.random.randn(256, 256)\n",
    "d2 = np.random.randn(256, 256)\n",
    "ds = (d1, d2)"
   ]
  },
  {
   "cell_type": "code",
   "execution_count": 7,
   "metadata": {},
   "outputs": [
    {
     "name": "stdout",
     "output_type": "stream",
     "text": [
      "False\n"
     ]
    }
   ],
   "source": [
    "def contains_nan(tuple_of_arrays):\n",
    "    for i, array in enumerate(tuple_of_arrays):\n",
    "        if np.isnan(array).any():\n",
    "            print(f\"Array {i} contains NaN.\")\n",
    "            return True\n",
    "    return False\n",
    "print(contains_nan(ds))"
   ]
  },
  {
   "cell_type": "code",
   "execution_count": null,
   "metadata": {},
   "outputs": [],
   "source": []
  }
 ],
 "metadata": {
  "kernelspec": {
   "display_name": "rl",
   "language": "python",
   "name": "python3"
  },
  "language_info": {
   "codemirror_mode": {
    "name": "ipython",
    "version": 3
   },
   "file_extension": ".py",
   "mimetype": "text/x-python",
   "name": "python",
   "nbconvert_exporter": "python",
   "pygments_lexer": "ipython3",
   "version": "3.8.20"
  }
 },
 "nbformat": 4,
 "nbformat_minor": 2
}
