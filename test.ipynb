{
 "cells": [
  {
   "cell_type": "code",
   "execution_count": 37,
   "metadata": {},
   "outputs": [],
   "source": [
    "import torch\n",
    "import matplotlib.pyplot as plt\n",
    "from utils.defects import S_cal\n",
    "import numpy as np\n",
    "\n",
    "from kinetic_solver import KineticSolver, KineticData\n",
    "\n",
    "def _action2light(self, action, grid_size=256):\n",
    "\n",
    "    x_center = int((action[0]+1)/2 * grid_size)   # 椭圆中心x坐标\n",
    "    y_center = int((action[1]+1)/2 * grid_size)   # 椭圆中心y坐标\n",
    "    a = (action[2]+1)/2 * grid_size / 2                # 长轴\n",
    "    b = (action[3]+1)/2 * grid_size / 2                # 短轴\n",
    "    theta = (action[4]+1)/2 * 2 * np.pi           # 方向角范围 [0, 2π]\n",
    "    intensity = (action[5]+1)/2 * 4 + 1           # 光照强度范围 [1, 10]\n",
    "\n",
    "    y, x = np.ogrid[:grid_size, :grid_size]\n",
    "    \n",
    "    # 3. 旋转椭圆的角度变换\n",
    "    cos_theta = np.cos(theta)\n",
    "    sin_theta = np.sin(theta)\n",
    "    \n",
    "    # 将坐标平移到椭圆中心\n",
    "    x_shifted = x - x_center\n",
    "    y_shifted = y - y_center\n",
    "    \n",
    "    # 旋转后的坐标\n",
    "    x_rotated = x_shifted * cos_theta + y_shifted * sin_theta\n",
    "    y_rotated = -x_shifted * sin_theta + y_shifted * cos_theta\n",
    "    \n",
    "    # 4. 椭圆方程 (x_rotated / a)^2 + (y_rotated / b)^2 <= 1 用于定义椭圆内的区域\n",
    "    ellipse_mask = (x_rotated / (a + 1e-9))**2 + (y_rotated / (b+ 1e-9))**2 <= 1\n",
    "\n",
    "    # 5. 创建光照矩阵，初始值都设为1，表示椭圆外部区域\n",
    "    light_matrix = np.ones((grid_size, grid_size))\n",
    "\n",
    "    # 6. 渐变效果 - 根据椭圆边缘距离生成，椭圆内从1到1.5渐变\n",
    "    distance = np.sqrt((x_rotated / (a + 1e-6))**2 + (y_rotated / (b+ 1e-6))**2)\n",
    "    light_matrix = np.where(ellipse_mask, intensity - (intensity-1) * distance, light_matrix)\n",
    "\n",
    "    return light_matrix, ellipse_mask"
   ]
  },
  {
   "cell_type": "code",
   "execution_count": null,
   "metadata": {},
   "outputs": [],
   "source": [
    "action = (0.5, 0, -0.5, 0.1, 0.1, 1)\n",
    "light_mat, ellipse_mask = _action2light(None, action, grid_size=256)\n",
    "import matplotlib.pyplot as plt\n",
    "plt.imshow(ellipse_mask)\n",
    "plt.colorbar()\n",
    "plt.show()"
   ]
  },
  {
   "cell_type": "code",
   "execution_count": null,
   "metadata": {},
   "outputs": [],
   "source": [
    "import numpy as np\n",
    "d11, d12 = load_data.get_D()\n",
    "S = S_cal(d11.cpu().data.numpy(), d12.cpu().data.numpy())\n",
    "print(S.mean())\n",
    "d11 = d11.cpu().data.numpy()\n",
    "d12 = d12.cpu().data.numpy()\n",
    "theta = 0.5 * np.arctan2(2*d12, 2*d11-1)\n",
    "# plot S\n",
    "\n",
    "cost, sint = np.cos(theta), np.sin(theta)\n",
    "\n",
    "fig, ax1 = plt.subplots(1,3, figsize=(15, 5))\n",
    "ax1[0].streamplot(np.arange(0, theta.shape[0]), np.arange(0, theta.shape[1]),\n",
    "                cost, sint, arrowsize=0.5, color='r',\n",
    "                density=4, linewidth=0.5)\n",
    "\n",
    "ax1[1].imshow(d11)\n",
    "# set colorbar\n",
    "\n",
    "ax1[2].imshow(S)\n",
    "plt.show()\n"
   ]
  },
  {
   "cell_type": "code",
   "execution_count": null,
   "metadata": {},
   "outputs": [],
   "source": []
  }
 ],
 "metadata": {
  "kernelspec": {
   "display_name": "rl",
   "language": "python",
   "name": "python3"
  },
  "language_info": {
   "codemirror_mode": {
    "name": "ipython",
    "version": 3
   },
   "file_extension": ".py",
   "mimetype": "text/x-python",
   "name": "python",
   "nbconvert_exporter": "python",
   "pygments_lexer": "ipython3",
   "version": "3.8.20"
  }
 },
 "nbformat": 4,
 "nbformat_minor": 2
}
