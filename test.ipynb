{
 "cells": [
  {
   "cell_type": "code",
   "execution_count": null,
   "metadata": {},
   "outputs": [],
   "source": [
    "import torch\n",
    "import matplotlib.pyplot as plt\n",
    "from utils.defects import S_cal\n",
    "import numpy as np\n",
    "\n",
    "from kinetic_solver import KineticSolver, KineticData\n",
    "from nematic_env import ActiveNematicEnv"
   ]
  },
  {
   "cell_type": "code",
   "execution_count": null,
   "metadata": {},
   "outputs": [],
   "source": [
    "t = 50\n",
    "print('t = ', t)"
   ]
  },
  {
   "cell_type": "code",
   "execution_count": null,
   "metadata": {},
   "outputs": [],
   "source": [
    "action = (-1, 0, 1, 1, 1, 1)\n",
    "light_mat = ActiveNematicEnv._action2light(10, action, grid_size=256)\n",
    "import matplotlib.pyplot as plt\n",
    "# plt.imshow(light_mat, cmap='gray', alpha=0.5)\n",
    "# # set the colorbar from 0 to 10\n",
    "# plt.clim(0, 10)\n",
    "# plt.colorbar()\n",
    "# plt.show()\n",
    "fig, ax = plt.subplots(1, 1, figsize=(5, 5))\n",
    "# ax.imshow(light_mat, alpha=0.5)\n",
    "# set the colorbar from 0 to 10\n",
    "fig.colorbar(ax.imshow(light_mat, cmap='gray', alpha=1, vmin=0, vmax=10))\n",
    "# title = 't = ' + str(t)\n",
    "ax.set_title(str(action))\n",
    "num_test = 20\n",
    "# show num_test below x axis\n",
    "ax.text(-5, -5, str(num_test), ha='center', va='center')\n",
    "# set x label\n",
    "ax.set_xlabel('sss'+str(num_test))\n",
    "# cb = fig.colorbar(ax.imshow(light_mat, cmap='gray', alpha=0.5))\n",
    "# # set the colorbar from 0 to 10\n",
    "# cb.set_clim(0, 10)\n",
    "\n",
    "plt.show()\n"
   ]
  },
  {
   "cell_type": "code",
   "execution_count": null,
   "metadata": {},
   "outputs": [],
   "source": [
    "print(0%8)"
   ]
  }
 ],
 "metadata": {
  "kernelspec": {
   "display_name": "rl",
   "language": "python",
   "name": "python3"
  },
  "language_info": {
   "codemirror_mode": {
    "name": "ipython",
    "version": 3
   },
   "file_extension": ".py",
   "mimetype": "text/x-python",
   "name": "python",
   "nbconvert_exporter": "python",
   "pygments_lexer": "ipython3",
   "version": "3.8.20"
  }
 },
 "nbformat": 4,
 "nbformat_minor": 2
}
