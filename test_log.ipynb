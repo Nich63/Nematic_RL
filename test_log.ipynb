{
 "cells": [
  {
   "cell_type": "code",
   "execution_count": 6,
   "metadata": {},
   "outputs": [],
   "source": [
    "import matplotlib.pyplot as plt\n",
    "import numpy as np\n",
    "import torch\n",
    "import pickle\n",
    "import utils.defects as defects\n",
    "import nematic_env\n",
    "import h5py\n",
    "\n",
    "from torch.utils.tensorboard import SummaryWriter\n",
    "from kinetic_solver import KineticData"
   ]
  },
  {
   "cell_type": "code",
   "execution_count": 7,
   "metadata": {},
   "outputs": [
    {
     "name": "stdout",
     "output_type": "stream",
     "text": [
      "Keys in the HDF5 file: ['Bm1_h', 'psi_h', 'psim1_h', 'simu_args', 'u_h', 'v_h']\n"
     ]
    }
   ],
   "source": [
    "\n",
    "with h5py.File('/home/hou63/pj2/Nematic_RL/log_ucsd/PPO_14/data_dump.h5', 'r') as f:\n",
    "    # 获取并打印所有顶层键\n",
    "    keys = list(f.keys())\n",
    "    print(\"Keys in the HDF5 file:\", keys)"
   ]
  },
  {
   "cell_type": "code",
   "execution_count": 5,
   "metadata": {},
   "outputs": [
    {
     "name": "stdout",
     "output_type": "stream",
     "text": [
      "[2.56000000e+02 2.56000000e+02 2.00000000e+01 6.28318531e+00\n",
      " 7.81250000e-02 2.45436926e-02 4.00000000e-04 1.23400000e+03]\n",
      "torch.Size([256, 256, 256])\n"
     ]
    }
   ],
   "source": [
    "device = torch.device('cuda:0' if torch.cuda.is_available() else 'cpu')\n",
    "\n",
    "path = '/home/hou63/pj2/Nematic_RL/log_ucsd/test_data/data_dump.h5'\n",
    "with h5py.File(path, 'r') as f:\n",
    "    psi_h = torch.tensor(f['psi_h'][:], dtype=torch.complex128, device=device)\n",
    "    psim1_h = torch.tensor(f['psim1_h'][:], dtype=torch.complex128, device=device)\n",
    "    u_h = torch.tensor(f['u_h'][:], dtype=torch.complex128, device=device)\n",
    "    v_h = torch.tensor(f['v_h'][:], dtype=torch.complex128, device=device)\n",
    "    Bm1_h = torch.tensor(f['Bm1_h'][:], dtype=torch.complex128, device=device)\n",
    "    simu_args = f['simu_args'][:]\n",
    "\n",
    "print(simu_args)\n",
    "test_data = KineticData(psi_h, psim1_h, u_h, v_h, Bm1_h, simu_args)\n",
    "test_data.to_device(device)\n",
    "print(test_data.psi_h.shape)\n"
   ]
  },
  {
   "cell_type": "code",
   "execution_count": 2,
   "metadata": {},
   "outputs": [],
   "source": [
    "def _action2light(self_intensity, device, action, grid_size=256):\n",
    "    action = np.clip(action, -1, 1)\n",
    "    # 确保 action 在 GPU 上是 PyTorch 张量\n",
    "    if not isinstance(action, torch.Tensor):\n",
    "        action = torch.tensor(action, device=device)\n",
    "    \n",
    "    # 1. 计算椭圆的参数\n",
    "    x_center = ((action[0] + 1) / 2 * grid_size).int()  # 椭圆平移后的中心x坐标\n",
    "    y_center = ((action[1] + 1) / 2 * grid_size).int()  # 椭圆平移后的中心y坐标\n",
    "    a = (action[2] + 1) / 2 * grid_size / 2             # 长轴，假设范围是 [10, 60]\n",
    "    b = (action[3] + 1) / 2 * grid_size / 2             # 短轴，假设范围是 [5, 35]\n",
    "    theta = (action[4] + 1) / 2 * 2 * torch.pi          # 方向角范围 [0, 2π]\n",
    "    intensity = (action[5] + 1) / 2 * self_intensity    # 光照强度范围 [0, intensity]\n",
    "\n",
    "    # 2. 构建网格坐标，并以中心为原点放置椭圆\n",
    "    y, x = torch.meshgrid(torch.arange(grid_size, device=device), torch.arange(grid_size, device=device))\n",
    "    x_shifted = x - grid_size // 2  # 平移椭圆初始位置到正中心\n",
    "    y_shifted = y - grid_size // 2\n",
    "\n",
    "    # 3. 旋转椭圆的角度变换\n",
    "    cos_theta = torch.cos(theta)\n",
    "    sin_theta = torch.sin(theta)\n",
    "    \n",
    "    # 旋转后的坐标\n",
    "    x_rotated = x_shifted * cos_theta + y_shifted * sin_theta\n",
    "    y_rotated = -x_shifted * sin_theta + y_shifted * cos_theta\n",
    "\n",
    "    # 4. 椭圆方程，用于定义椭圆内的区域\n",
    "    ellipse_mask = (x_rotated / (a + 1e-6))**2 + (y_rotated / (b + 1e-6))**2 <= 1\n",
    "\n",
    "    # 5. 创建光照矩阵，初始值都设为1，表示椭圆外部区域\n",
    "    light_matrix = torch.ones((grid_size, grid_size), device=device)\n",
    "\n",
    "    # 6. 渐变效果 - 根据椭圆边缘距离生成，椭圆内从1到指定强度渐变\n",
    "    distance = torch.sqrt((x_rotated / (a + 1e-6))**2 + (y_rotated / (b + 1e-6))**2)\n",
    "    light_matrix_centered = torch.where(ellipse_mask, intensity - (intensity - 1) * distance, light_matrix)\n",
    "\n",
    "    # 7. 将光照矩阵平移到指定的中心位置\n",
    "    x_translation = (x_center - grid_size // 2) % grid_size\n",
    "    y_translation = (y_center - grid_size // 2) % grid_size\n",
    "\n",
    "    # 8. 使用 roll 函数将矩阵平移并处理周期性边界条件\n",
    "    light_matrix_shifted = torch.roll(light_matrix_centered, shifts=(y_translation.item(), x_translation.item()), dims=(0, 1))\n",
    "    # light_matrix_shifted = torch.ones((grid_size, grid_size), device=device)\n",
    "    return light_matrix_shifted"
   ]
  },
  {
   "cell_type": "code",
   "execution_count": 6,
   "metadata": {},
   "outputs": [
    {
     "data": {
      "image/png": "[encoded data removed]",
      "text/plain": [
       "<Figure size 640x480 with 2 Axes>"
      ]
     },
     "metadata": {},
     "output_type": "display_data"
    }
   ],
   "source": [
    "# writer for img saving\n",
    "action = [0.5, -1.5, -0.86, -1.45, -2.58, -2.9]\n",
    "action = np.clip(action, -1, 1)\n",
    "action_mat = _action2light(10, torch.device('cpu'), action)\n",
    "fig, ax = plt.subplots()\n",
    "fig.colorbar(ax.imshow(action_mat, cmap='gray', alpha=0.5))\n",
    "plt.show()"
   ]
  }
 ],
 "metadata": {
  "kernelspec": {
   "display_name": "rl",
   "language": "python",
   "name": "python3"
  },
  "language_info": {
   "codemirror_mode": {
    "name": "ipython",
    "version": 3
   },
   "file_extension": ".py",
   "mimetype": "text/x-python",
   "name": "python",
   "nbconvert_exporter": "python",
   "pygments_lexer": "ipython3",
   "version": "3.8.20"
  }
 },
 "nbformat": 4,
 "nbformat_minor": 2
}
