{
 "cells": [
  {
   "cell_type": "code",
   "execution_count": 1,
   "metadata": {},
   "outputs": [],
   "source": [
    "import matplotlib.pyplot as plt\n",
    "import numpy as np\n",
    "import torch\n",
    "import pickle\n",
    "import utils.defects as defects\n",
    "import nematic_env\n",
    "\n",
    "from torch.utils.tensorboard import SummaryWriter\n",
    "from kinetic_solver import KineticData"
   ]
  },
  {
   "cell_type": "code",
   "execution_count": null,
   "metadata": {},
   "outputs": [],
   "source": [
    "data_path = '/home/hou63/pj2/Nematic_RL/datas/simulation_data_test.pkl'\n",
    "data = KineticData.loader(data_path)\n",
    "d11, d12 = data.get_D()\n",
    "d11 = d11.cpu().detach().numpy()\n",
    "d12 = d12.cpu().detach().numpy()\n",
    "\n",
    "theta = defects.theta_cal(d11, d12)\n",
    "defects_arr = defects.calculate_defects(theta)\n",
    "fig, axs = plt.subplots(1, 1, figsize=(5, 5))\n",
    "defects.plot_defects(defects_arr, theta, axs)\n",
    "action = (-1, 0, -0.5, 0.1, 0.1, 1)\n",
    "light_mat = nematic_env.ActiveNematicEnv._action2light(4, action)\n",
    "axs.imshow(light_mat, cmap='gray', alpha=0.5)\n",
    "plt.show()\n",
    "\n"
   ]
  },
  {
   "cell_type": "code",
   "execution_count": 6,
   "metadata": {},
   "outputs": [],
   "source": [
    "# writer for img saving\n",
    "writer = SummaryWriter('/home/hou63/pj2/Nematic_RL/test_log')\n",
    "for i in range(10):\n",
    "    writer.add_figure('defects', fig, global_step=i)\n",
    "writer.close()"
   ]
  }
 ],
 "metadata": {
  "kernelspec": {
   "display_name": "rl",
   "language": "python",
   "name": "python3"
  },
  "language_info": {
   "codemirror_mode": {
    "name": "ipython",
    "version": 3
   },
   "file_extension": ".py",
   "mimetype": "text/x-python",
   "name": "python",
   "nbconvert_exporter": "python",
   "pygments_lexer": "ipython3",
   "version": "3.8.20"
  }
 },
 "nbformat": 4,
 "nbformat_minor": 2
}
