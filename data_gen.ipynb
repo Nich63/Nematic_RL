{
 "cells": [
  {
   "cell_type": "code",
   "execution_count": null,
   "metadata": {},
   "outputs": [],
   "source": [
    "import torch\n",
    "import numpy as np\n",
    "import scipy.io as sio\n",
    "\n",
    "from scipy.io import savemat\n",
    "from kinetic_solver import KineticSolver, KineticData\n",
    "\n",
    "geo_params = {\n",
    "    'N': 256,\n",
    "    'Nth': 256,\n",
    "    'L': 20\n",
    "}\n",
    "flow_params = {\n",
    "    'dT': 0.3,\n",
    "    'dR': 0.3,\n",
    "    'alpha': -10,\n",
    "    'beta': 1.0,\n",
    "    'zeta': 2,\n",
    "    'V0': 0.0\n",
    "}\n",
    "simu_params = {\n",
    "    'dt': 0.0004,\n",
    "    'seed': 1234,\n",
    "    'inner_steps': 640,\n",
    "    'outer_steps': 256\n",
    "}\n",
    "device = 'cuda:0' if torch.cuda.is_available() else 'cpu'\n",
    "\n",
    "solver_paras = (geo_params, flow_params, simu_params)\n",
    "solver = KineticSolver(*solver_paras, device=device)\n",
    "simulation_data = KineticData(*solver.initialize2_pytorch(seed=918), solver.simu_args)\n",
    "d11, d12 = simulation_data.get_D()\n",
    "print(d11.shape)"
   ]
  },
  {
   "cell_type": "code",
   "execution_count": null,
   "metadata": {},
   "outputs": [],
   "source": [
    "tensor_D = np.zeros((256,256,10))\n",
    "D_test, _, _ = solver.get_D(simulation_data.psi_h)\n",
    "tensor_D[:,:,0] = D_test.cpu().data.numpy()\n",
    "print(tensor_D)"
   ]
  },
  {
   "cell_type": "code",
   "execution_count": null,
   "metadata": {},
   "outputs": [],
   "source": [
    "tensor_psi_h, tensor_psim1_h, tensor_u_h, tensor_v_h, tensor_Bm1_h = solver.save_loop(simulation_data)\n",
    "# save D\n",
    "mdic = {\"psi_h\": tensor_psi_h, \"psim1_h\": tensor_psim1_h,\n",
    "         \"u_h\": tensor_u_h, \"v_h\": tensor_v_h, \"Bm1_h\": tensor_Bm1_h}\n",
    "savemat(\"/home/hou63/pj2/Nematic_RL/datas/All.mat\", mdic)"
   ]
  },
  {
   "cell_type": "code",
   "execution_count": null,
   "metadata": {},
   "outputs": [],
   "source": [
    "tensor_D = solver.save_D_loop(simulation_data)\n",
    "# save D\n",
    "mdic = {\"D\": tensor_D}\n",
    "savemat(\"/home/hou63/pj2/Nematic_RL/datas/D.mat\", mdic)"
   ]
  },
  {
   "cell_type": "code",
   "execution_count": null,
   "metadata": {},
   "outputs": [],
   "source": [
    "print(tensor_D.shape)"
   ]
  }
 ],
 "metadata": {
  "kernelspec": {
   "display_name": "rl",
   "language": "python",
   "name": "python3"
  },
  "language_info": {
   "codemirror_mode": {
    "name": "ipython",
    "version": 3
   },
   "file_extension": ".py",
   "mimetype": "text/x-python",
   "name": "python",
   "nbconvert_exporter": "python",
   "pygments_lexer": "ipython3",
   "version": "3.8.20"
  }
 },
 "nbformat": 4,
 "nbformat_minor": 2
}
