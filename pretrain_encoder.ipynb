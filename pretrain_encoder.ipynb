{
 "cells": [
  {
   "cell_type": "code",
   "execution_count": 1,
   "metadata": {},
   "outputs": [],
   "source": [
    "import scipy.io as sio\n",
    "import numpy as np\n",
    "import os\n",
    "import tensorboard\n",
    "import torch\n",
    "import torch.nn as nn\n",
    "import torch.optim as optim\n",
    "from torch.utils.data import DataLoader, TensorDataset\n",
    "import matplotlib.pyplot as plt\n",
    "\n",
    "from torch.utils.tensorboard import SummaryWriter\n",
    "from utils.model import DownSampleConv, UpSampleConv\n",
    "\n",
    "device = torch.device('cuda:0' if torch.cuda.is_available() else 'cpu')\n"
   ]
  },
  {
   "cell_type": "code",
   "execution_count": 2,
   "metadata": {},
   "outputs": [
    {
     "name": "stdout",
     "output_type": "stream",
     "text": [
      "(256, 256, 3, 257)\n",
      "(256, 256, 217)\n",
      "(217, 256, 256)\n",
      "(217, 2, 256, 256)\n"
     ]
    }
   ],
   "source": [
    "D = sio.loadmat('/home/hou63/pj2/Nematic_RL/datas/D.mat')['D']\n",
    "# print keys\n",
    "print(D.shape)\n",
    "d11 = D[:,:,0,40:]\n",
    "d12 = D[:,:,1,40:]\n",
    "print(d11.shape)\n",
    "# put axis 2 to 0\n",
    "d11 = np.moveaxis(d11, 2, 0)\n",
    "d12 = np.moveaxis(d12, 2, 0)\n",
    "print(d11.shape)\n",
    "ds = np.stack((d11, d12), axis=1)\n",
    "print(ds.shape)\n",
    "ds = torch.tensor(ds, dtype=torch.float32, device=device)"
   ]
  },
  {
   "cell_type": "code",
   "execution_count": null,
   "metadata": {},
   "outputs": [],
   "source": [
    "# plot D\n",
    "plt.figure()\n",
    "plt.imshow(d11[:,:,0])\n",
    "plt.colorbar()\n",
    "plt.show()"
   ]
  },
  {
   "cell_type": "code",
   "execution_count": null,
   "metadata": {},
   "outputs": [],
   "source": [
    "\n",
    "encoder = DownSampleConv()\n",
    "decoder = UpSampleConv()\n",
    "\n",
    "encoder = encoder.to(device)\n",
    "decoder = decoder.to(device)\n",
    "\n",
    "criterion = nn.MSELoss()\n",
    "optimizer = optim.Adam(encoder.parameters(), lr=0.001)\n",
    "\n",
    "# 训练参数\n",
    "num_epochs = 10\n",
    "dataset = TensorDataset(ds)  # 将 ds 封装为 dataset\n",
    "dataloader = DataLoader(dataset, batch_size=32, shuffle=True)"
   ]
  },
  {
   "cell_type": "code",
   "execution_count": 5,
   "metadata": {},
   "outputs": [
    {
     "name": "stdout",
     "output_type": "stream",
     "text": [
      "Epoch [1/10], Loss: 0.2340\n",
      "Epoch [2/10], Loss: 0.2274\n",
      "Epoch [3/10], Loss: 0.2239\n",
      "Epoch [4/10], Loss: 0.2216\n",
      "Epoch [5/10], Loss: 0.2196\n",
      "Epoch [6/10], Loss: 0.2183\n",
      "Epoch [7/10], Loss: 0.2176\n",
      "Epoch [8/10], Loss: 0.2168\n",
      "Epoch [9/10], Loss: 0.2164\n",
      "Epoch [10/10], Loss: 0.2164\n"
     ]
    }
   ],
   "source": [
    "for epoch in range(num_epochs):\n",
    "    encoder.train()  # 设置 encoder 为训练模式\n",
    "    decoder.train()  # 设置 decoder 为训练模式\n",
    "    \n",
    "    total_loss = 0.0\n",
    "\n",
    "    for data in dataloader:\n",
    "        # 将数据移到设备上\n",
    "        x = data[0].to(device)\n",
    "        \n",
    "        # 前向传播: encoder 和 decoder\n",
    "        encoded = encoder(x)\n",
    "        reconstructed = decoder(encoded)\n",
    "        \n",
    "        # 计算损失\n",
    "        loss = criterion(reconstructed, x)  # 自监督损失：重建误差\n",
    "        \n",
    "        # 反向传播与优化\n",
    "        optimizer.zero_grad()\n",
    "        loss.backward()\n",
    "        optimizer.step()\n",
    "        \n",
    "        total_loss += loss.item()\n",
    "    \n",
    "    avg_loss = total_loss / len(dataloader)\n",
    "    print(f'Epoch [{epoch+1}/{num_epochs}], Loss: {avg_loss:.4f}')"
   ]
  }
 ],
 "metadata": {
  "kernelspec": {
   "display_name": "rl",
   "language": "python",
   "name": "python3"
  },
  "language_info": {
   "codemirror_mode": {
    "name": "ipython",
    "version": 3
   },
   "file_extension": ".py",
   "mimetype": "text/x-python",
   "name": "python",
   "nbconvert_exporter": "python",
   "pygments_lexer": "ipython3",
   "version": "3.8.20"
  }
 },
 "nbformat": 4,
 "nbformat_minor": 2
}
